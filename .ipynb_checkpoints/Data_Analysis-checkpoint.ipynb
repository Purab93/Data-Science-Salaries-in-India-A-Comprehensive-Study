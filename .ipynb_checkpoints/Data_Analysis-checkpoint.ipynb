{
 "cells": [
  {
   "cell_type": "code",
   "execution_count": 1,
   "metadata": {},
   "outputs": [],
   "source": [
    "import pandas as pd\n",
    "import numpy as np\n",
    "import matplotlib as mpl\n",
    "import seaborn\n",
    "import statistics"
   ]
  },
  {
   "cell_type": "code",
   "execution_count": 2,
   "metadata": {},
   "outputs": [
    {
     "data": {
      "text/html": [
       "<div>\n",
       "<style scoped>\n",
       "    .dataframe tbody tr th:only-of-type {\n",
       "        vertical-align: middle;\n",
       "    }\n",
       "\n",
       "    .dataframe tbody tr th {\n",
       "        vertical-align: top;\n",
       "    }\n",
       "\n",
       "    .dataframe thead th {\n",
       "        text-align: right;\n",
       "    }\n",
       "</style>\n",
       "<table border=\"1\" class=\"dataframe\">\n",
       "  <thead>\n",
       "    <tr style=\"text-align: right;\">\n",
       "      <th></th>\n",
       "      <th>Unnamed: 0</th>\n",
       "      <th>Job Title</th>\n",
       "      <th>Job Description</th>\n",
       "      <th>Rating</th>\n",
       "      <th>Company Name</th>\n",
       "      <th>Location</th>\n",
       "      <th>Headquarters</th>\n",
       "      <th>Size</th>\n",
       "      <th>Founded</th>\n",
       "      <th>Type of ownership</th>\n",
       "      <th>Industry</th>\n",
       "      <th>Sector</th>\n",
       "      <th>Revenue</th>\n",
       "      <th>Competitors</th>\n",
       "      <th>Salary</th>\n",
       "      <th>Age</th>\n",
       "    </tr>\n",
       "  </thead>\n",
       "  <tbody>\n",
       "    <tr>\n",
       "      <th>0</th>\n",
       "      <td>0</td>\n",
       "      <td>Junior Data Analyst</td>\n",
       "      <td>Role: Junior Data Analyst\\n\\nLocation: Gurgaon...</td>\n",
       "      <td>3.3</td>\n",
       "      <td>GroundTruth</td>\n",
       "      <td>Gurgaon</td>\n",
       "      <td>New York, NY</td>\n",
       "      <td>201 to 500 employees</td>\n",
       "      <td>2009.0</td>\n",
       "      <td>Company - Private</td>\n",
       "      <td>NaN</td>\n",
       "      <td>Other</td>\n",
       "      <td>Unknown / Non-Applicable</td>\n",
       "      <td>NaN</td>\n",
       "      <td>503000.0</td>\n",
       "      <td>11.0</td>\n",
       "    </tr>\n",
       "    <tr>\n",
       "      <th>1</th>\n",
       "      <td>1</td>\n",
       "      <td>Senior Solutions Architect</td>\n",
       "      <td>Title: Senior Solutions Architect\\n\\nLocation:...</td>\n",
       "      <td>3.0</td>\n",
       "      <td>phData</td>\n",
       "      <td>Bengaluru</td>\n",
       "      <td>Minneapolis, MN</td>\n",
       "      <td>51 to 200 employees</td>\n",
       "      <td>2014.0</td>\n",
       "      <td>Company - Private</td>\n",
       "      <td>IT Services</td>\n",
       "      <td>Information Technology</td>\n",
       "      <td>Unknown / Non-Applicable</td>\n",
       "      <td>NaN</td>\n",
       "      <td>1058600.0</td>\n",
       "      <td>6.0</td>\n",
       "    </tr>\n",
       "    <tr>\n",
       "      <th>2</th>\n",
       "      <td>2</td>\n",
       "      <td>Advisor, Data Science &amp; Analytics</td>\n",
       "      <td>What We'll Bring:\\n\\nTransUnion, a global info...</td>\n",
       "      <td>4.0</td>\n",
       "      <td>TransUnion</td>\n",
       "      <td>Chennai</td>\n",
       "      <td>Chicago, IL</td>\n",
       "      <td>5001 to 10000 employees</td>\n",
       "      <td>1968.0</td>\n",
       "      <td>Company - Public</td>\n",
       "      <td>Financial Analytics &amp; Research</td>\n",
       "      <td>Finance</td>\n",
       "      <td>₹100 to ₹500 billion (INR)</td>\n",
       "      <td>NaN</td>\n",
       "      <td>270000.0</td>\n",
       "      <td>52.0</td>\n",
       "    </tr>\n",
       "    <tr>\n",
       "      <th>3</th>\n",
       "      <td>3</td>\n",
       "      <td>Data Scientist</td>\n",
       "      <td>Job Description – Data Scientist\\n\\nLocation: ...</td>\n",
       "      <td>3.5</td>\n",
       "      <td>Buckman</td>\n",
       "      <td>Chennai</td>\n",
       "      <td>Memphis, TN</td>\n",
       "      <td>1001 to 5000 employees</td>\n",
       "      <td>1945.0</td>\n",
       "      <td>Company - Private</td>\n",
       "      <td>Chemical Manufacturing</td>\n",
       "      <td>Manufacturing</td>\n",
       "      <td>₹50 to ₹100 billion (INR)</td>\n",
       "      <td>NaN</td>\n",
       "      <td>569250.0</td>\n",
       "      <td>75.0</td>\n",
       "    </tr>\n",
       "    <tr>\n",
       "      <th>4</th>\n",
       "      <td>4</td>\n",
       "      <td>Data Science (Jupyter/Azure ML/MatLab)</td>\n",
       "      <td>Accenture Technology powers our clients busine...</td>\n",
       "      <td>3.9</td>\n",
       "      <td>Accenture</td>\n",
       "      <td>Hyderabad</td>\n",
       "      <td>Dublin, Ireland</td>\n",
       "      <td>10000+ employees</td>\n",
       "      <td>1989.0</td>\n",
       "      <td>Company - Public</td>\n",
       "      <td>Consulting</td>\n",
       "      <td>Business Services</td>\n",
       "      <td>₹500+ billion (INR)</td>\n",
       "      <td>Cognizant Technology Solutions, EY, McKinsey &amp;...</td>\n",
       "      <td>956902.6</td>\n",
       "      <td>31.0</td>\n",
       "    </tr>\n",
       "  </tbody>\n",
       "</table>\n",
       "</div>"
      ],
      "text/plain": [
       "   Unnamed: 0                               Job Title  \\\n",
       "0           0                     Junior Data Analyst   \n",
       "1           1              Senior Solutions Architect   \n",
       "2           2       Advisor, Data Science & Analytics   \n",
       "3           3                          Data Scientist   \n",
       "4           4  Data Science (Jupyter/Azure ML/MatLab)   \n",
       "\n",
       "                                     Job Description Rating Company Name  \\\n",
       "0  Role: Junior Data Analyst\\n\\nLocation: Gurgaon...    3.3  GroundTruth   \n",
       "1  Title: Senior Solutions Architect\\n\\nLocation:...    3.0       phData   \n",
       "2  What We'll Bring:\\n\\nTransUnion, a global info...    4.0   TransUnion   \n",
       "3  Job Description – Data Scientist\\n\\nLocation: ...    3.5      Buckman   \n",
       "4  Accenture Technology powers our clients busine...    3.9    Accenture   \n",
       "\n",
       "    Location     Headquarters                     Size  Founded  \\\n",
       "0    Gurgaon     New York, NY     201 to 500 employees   2009.0   \n",
       "1  Bengaluru  Minneapolis, MN      51 to 200 employees   2014.0   \n",
       "2    Chennai      Chicago, IL  5001 to 10000 employees   1968.0   \n",
       "3    Chennai      Memphis, TN   1001 to 5000 employees   1945.0   \n",
       "4  Hyderabad  Dublin, Ireland         10000+ employees   1989.0   \n",
       "\n",
       "   Type of ownership                        Industry                  Sector  \\\n",
       "0  Company - Private                             NaN                   Other   \n",
       "1  Company - Private                     IT Services  Information Technology   \n",
       "2   Company - Public  Financial Analytics & Research                 Finance   \n",
       "3  Company - Private          Chemical Manufacturing           Manufacturing   \n",
       "4   Company - Public                      Consulting       Business Services   \n",
       "\n",
       "                      Revenue  \\\n",
       "0    Unknown / Non-Applicable   \n",
       "1    Unknown / Non-Applicable   \n",
       "2  ₹100 to ₹500 billion (INR)   \n",
       "3   ₹50 to ₹100 billion (INR)   \n",
       "4         ₹500+ billion (INR)   \n",
       "\n",
       "                                         Competitors     Salary   Age  \n",
       "0                                                NaN   503000.0  11.0  \n",
       "1                                                NaN  1058600.0   6.0  \n",
       "2                                                NaN   270000.0  52.0  \n",
       "3                                                NaN   569250.0  75.0  \n",
       "4  Cognizant Technology Solutions, EY, McKinsey &...   956902.6  31.0  "
      ]
     },
     "execution_count": 2,
     "metadata": {},
     "output_type": "execute_result"
    }
   ],
   "source": [
    "# load Data\n",
    "Jobs_data = pd.read_csv(\"Jobs_Clean.csv\")\n",
    "Jobs_data.head()"
   ]
  },
  {
   "cell_type": "code",
   "execution_count": 3,
   "metadata": {},
   "outputs": [],
   "source": [
    "Jobs_data.drop(['Unnamed: 0'],axis=1,inplace=True)"
   ]
  },
  {
   "cell_type": "code",
   "execution_count": 5,
   "metadata": {},
   "outputs": [
    {
     "data": {
      "text/plain": [
       "1    840\n",
       "0    660\n",
       "Name: python_yn, dtype: int64"
      ]
     },
     "execution_count": 5,
     "metadata": {},
     "output_type": "execute_result"
    }
   ],
   "source": [
    "#python\n",
    "Jobs_data['python_yn'] = Jobs_data['Job Description'].apply(lambda x: 1 if 'python' in x.lower() else 0)\n",
    "Jobs_data.python_yn.value_counts()\n"
   ]
  },
  {
   "cell_type": "code",
   "execution_count": 31,
   "metadata": {},
   "outputs": [
    {
     "data": {
      "text/plain": [
       "0    1267\n",
       "1     233\n",
       "Name: R_yn, dtype: int64"
      ]
     },
     "execution_count": 31,
     "metadata": {},
     "output_type": "execute_result"
    }
   ],
   "source": [
    "#r studio \n",
    "Jobs_data['R_yn'] = Jobs_data['Job Description'].apply(lambda x: 1 if 'r python' in x.lower() or 'r/' in x.lower() else 0)\n",
    "Jobs_data.R_yn.value_counts()"
   ]
  },
  {
   "cell_type": "code",
   "execution_count": 35,
   "metadata": {},
   "outputs": [
    {
     "data": {
      "text/plain": [
       "0    1067\n",
       "1     433\n",
       "Name: spark, dtype: int64"
      ]
     },
     "execution_count": 35,
     "metadata": {},
     "output_type": "execute_result"
    }
   ],
   "source": [
    "#Big-Data \n",
    "Jobs_data['spark'] = Jobs_data['Job Description'].apply(lambda x: 1 if 'spark' in x.lower() or 'hadoop' in x.lower()  or 'kafka' in x.lower() else 0)\n",
    "Jobs_data.spark.value_counts()"
   ]
  },
  {
   "cell_type": "code",
   "execution_count": 8,
   "metadata": {},
   "outputs": [
    {
     "data": {
      "text/plain": [
       "0    1211\n",
       "1     289\n",
       "Name: aws, dtype: int64"
      ]
     },
     "execution_count": 8,
     "metadata": {},
     "output_type": "execute_result"
    }
   ],
   "source": [
    "#aws \n",
    "Jobs_data['aws'] = Jobs_data['Job Description'].apply(lambda x: 1 if 'aws' in x.lower() else 0)\n",
    "Jobs_data.aws.value_counts()"
   ]
  },
  {
   "cell_type": "code",
   "execution_count": 9,
   "metadata": {},
   "outputs": [
    {
     "data": {
      "text/plain": [
       "1    753\n",
       "0    747\n",
       "Name: excel, dtype: int64"
      ]
     },
     "execution_count": 9,
     "metadata": {},
     "output_type": "execute_result"
    }
   ],
   "source": [
    "#excel\n",
    "Jobs_data['excel'] = Jobs_data['Job Description'].apply(lambda x: 1 if 'excel' in x.lower() else 0)\n",
    "Jobs_data.excel.value_counts()"
   ]
  },
  {
   "cell_type": "code",
   "execution_count": 13,
   "metadata": {},
   "outputs": [
    {
     "data": {
      "text/plain": [
       "1    1087\n",
       "0     413\n",
       "Name: experience, dtype: int64"
      ]
     },
     "execution_count": 13,
     "metadata": {},
     "output_type": "execute_result"
    }
   ],
   "source": [
    "#checking for experience requirements\n",
    "Jobs_data['experience'] = Jobs_data['Job Description'].apply(lambda x: 1 if 'years' in x.lower() else 0)\n",
    "Jobs_data.experience.value_counts()"
   ]
  },
  {
   "cell_type": "code",
   "execution_count": 14,
   "metadata": {},
   "outputs": [],
   "source": [
    "a=[]\n",
    "# b=[] #debugging\n",
    "for j in Jobs_data['Job Description']:\n",
    "    if 'years' in j.lower():\n",
    "        l=[]\n",
    "        x = j[j.find('years')-20:j.find('years')+20]\n",
    "        i=0\n",
    "        while(i<len(x)):\n",
    "            if x[i:i+2].isdigit():\n",
    "                l.append(int(x[i:i+2]))\n",
    "                i+=1\n",
    "            elif x[i].isdigit():\n",
    "                l.append(int(x[i]))  \n",
    "            i+=1\n",
    "    if len(l)>0:\n",
    "#         a.append(l) #Debugging\n",
    "        a.append(statistics.mean(l))\n",
    "    else:\n",
    "        a.append(0)\n",
    "#     b.append(x) #debugging           \n",
    "\n",
    "Jobs_data['years_exp']=a\n",
    "# Jobs_data['years_exp2']=b"
   ]
  },
  {
   "cell_type": "code",
   "execution_count": null,
   "metadata": {},
   "outputs": [],
   "source": []
  },
  {
   "cell_type": "code",
   "execution_count": null,
   "metadata": {},
   "outputs": [],
   "source": []
  },
  {
   "cell_type": "code",
   "execution_count": null,
   "metadata": {},
   "outputs": [],
   "source": []
  },
  {
   "cell_type": "markdown",
   "metadata": {},
   "source": [
    "# To understand data better\n",
    "for i in Jobs_data[Jobs_data['years']==0].index.values:\n",
    "    print('Location : {} \\n'.format(Jobs_data.loc[i]['Location']))\n",
    "    print(Jobs_data.loc[i]['Job Description'])\n",
    "    print('_____________________________________________________________________________________')"
   ]
  },
  {
   "cell_type": "code",
   "execution_count": null,
   "metadata": {},
   "outputs": [],
   "source": []
  }
 ],
 "metadata": {
  "kernelspec": {
   "display_name": "Python 3",
   "language": "python",
   "name": "python3"
  },
  "language_info": {
   "codemirror_mode": {
    "name": "ipython",
    "version": 3
   },
   "file_extension": ".py",
   "mimetype": "text/x-python",
   "name": "python",
   "nbconvert_exporter": "python",
   "pygments_lexer": "ipython3",
   "version": "3.7.6"
  }
 },
 "nbformat": 4,
 "nbformat_minor": 4
}
